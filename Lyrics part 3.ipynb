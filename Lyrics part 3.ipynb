{
 "cells": [
  {
   "cell_type": "code",
   "execution_count": 1,
   "id": "8481bed8-3e9d-4520-8e39-2bc7e48a72ad",
   "metadata": {},
   "outputs": [],
   "source": [
    "import pandas as pd\n",
    "import numpy as np\n",
    "from sklearn.decomposition import PCA\n",
    "import matplotlib.pyplot as plt\n",
    "from mpl_toolkits.mplot3d import Axes3D\n",
    "from sklearn.metrics.pairwise import cosine_similarity\n",
    "from sklearn.feature_extraction.text import CountVectorizer"
   ]
  },
  {
   "cell_type": "code",
   "execution_count": 2,
   "id": "a65277da-3215-4352-85b1-990294a16cfc",
   "metadata": {},
   "outputs": [],
   "source": [
    "# loading the dataset that contains lyrics data with word count for each track.\n",
    "merged_df = pd.read_csv('/Users/vivekrambha/Documents/QMUL Slides and Notes/Music recommendation system/combined_data.csv')"
   ]
  },
  {
   "cell_type": "code",
   "execution_count": 3,
   "id": "638b334f-3da8-49c9-9b57-10186c2ccacc",
   "metadata": {},
   "outputs": [],
   "source": [
    "# created a table where each row corresponds to a track, each column corresponding to a word and values are the word counts for each track \n",
    "track_word_matrix = merged_df.pivot_table(index='track_id', columns='word', values='count', fill_value=0)"
   ]
  },
  {
   "cell_type": "code",
   "execution_count": 4,
   "id": "8cedc329-1027-4a7e-bfda-91f88a633434",
   "metadata": {},
   "outputs": [],
   "source": [
    "# lyrics of the input song which is same as the MP3 file present in part 2\n",
    "input_lyrics = \"\"\"It's been so long\n",
    "That I haven't seen your face\n",
    "I'm tryna be strong\n",
    "But the strength I have is washing away\n",
    "It won't be long\n",
    "Before I get you by my side\n",
    "And just hold you, tease you, squeeze you\n",
    "Tell you what's been on my mind\n",
    "I wanna make up right now, na, na\n",
    "I wanna make up right now, na, na\n",
    "Wish we never broke up right now, na, na\n",
    "We need to link up right now, na, na\n",
    "I wanna make up right now, na, na\n",
    "I wanna make up right now, na, na\n",
    "Wish we never broke up right now, na, na\n",
    "We need to link up right now, na, na\n",
    "Girl, I know\n",
    "Mistakes were made between us two\n",
    "And we showed our ass that night\n",
    "Even said some things weren't true\n",
    "Watched you go\n",
    "And haven't seen my girl since then\n",
    "Why can't it be the way it was\n",
    "'Cause you were my homie, lover and friend\n",
    "I wanna make up right now, na, na\n",
    "I wanna make up right now, na, na\n",
    "Wish we never broke up right now, na, na\n",
    "We need to link up right now, na, na\n",
    "I wanna make up right now, na, na\n",
    "I wanna make up right now, na, na\n",
    "Wish we never broke up right now, na, na\n",
    "We need to link up right now, na, na\n",
    "I can't lie (I miss you much)\n",
    "Watchin' every day that goes by (I miss you much)\n",
    "Until I get you back, I'm gon' try (yes, I miss you much)\n",
    "'Cause you are the apple of my eye (girl, I miss you much)\n",
    "(I miss you much)\n",
    "I can't lie (I miss you much)\n",
    "Watchin' every day that goes by (I miss you much)\n",
    "Until I get you back, I'm gon' try (yes, I miss you much)\n",
    "'Cause you are the apple of my eye (girl, I miss you much)\n",
    "(I miss you much)\n",
    "I wanna make up right now, na, na\n",
    "I wanna make up right now, na, na\n",
    "Wish we never broke up right now, na, na\n",
    "We need to link up right now, na, na\n",
    "I wanna make up right now, na, na\n",
    "I wanna make up right now, na, na\n",
    "Wish we never broke up right now, na, na\n",
    "We need to link up right now, na, na\n",
    "I want you to fly with me (want you to fly)\n",
    "I miss how you lie with me (miss how you lie)\n",
    "Just wish you could dine with me (wish you could dine with me)\n",
    "The one that'll grind with me (said the one that'll grind with me)\n",
    "I want you to fly with me (want you to fly)\n",
    "I miss how you lie with me (oh, miss how you lie)\n",
    "Just wish you could dine with me (wish you could dine)\n",
    "The one that'll grind with me (oh, one that'll grind, yeah, yeah)\n",
    "I wanna make up right now, na, na\n",
    "I wanna make up right now, na, na (make up)\n",
    "Wish we never broke up right now, na, na\n",
    "We need to link up right now, na, na (link up, baby)\n",
    "I wanna make up right now, na, na\n",
    "I wanna make up right now, na, na\n",
    "Wish we never broke up right now, na, na\n",
    "We need to link up right now, na, na (link up)\n",
    "\"\"\""
   ]
  },
  {
   "cell_type": "code",
   "execution_count": 5,
   "id": "9001f322-a0c9-47f7-bacc-f105dd656937",
   "metadata": {},
   "outputs": [],
   "source": [
    "#initialize a countvectorizer\n",
    "vectorizer = CountVectorizer(vocabulary=track_word_matrix.columns)\n",
    "\n",
    "# transform the input lyrics into a veector based on the word counts\n",
    "input_vector = vectorizer.transform([input_lyrics])"
   ]
  },
  {
   "cell_type": "code",
   "execution_count": 6,
   "id": "12bb4e6f-f4de-4764-a01f-fa345d5e138e",
   "metadata": {},
   "outputs": [],
   "source": [
    "# Convert the sparse matrix to a dataframe\n",
    "input_df = pd.DataFrame(input_vector.toarray(), columns=vectorizer.get_feature_names_out())"
   ]
  },
  {
   "cell_type": "code",
   "execution_count": 7,
   "id": "37d098e2-9eba-46ee-b294-59a3d135e8de",
   "metadata": {},
   "outputs": [],
   "source": [
    "# computing cosine similarity between lyrics vector and each track in the dataset\n",
    "similarity_scores = cosine_similarity(input_df, track_word_matrix)"
   ]
  },
  {
   "cell_type": "code",
   "execution_count": 8,
   "id": "908afb31-71af-4711-bb1d-9984cf649712",
   "metadata": {},
   "outputs": [],
   "source": [
    "# convert similarity score into a dataframe to get all values\n",
    "similarity_df = pd.DataFrame(similarity_scores.T, index=track_word_matrix.index, columns=['similarity'])"
   ]
  },
  {
   "cell_type": "code",
   "execution_count": 9,
   "id": "6bdc39bf-cad0-4cf0-95b6-5a613a307674",
   "metadata": {},
   "outputs": [],
   "source": [
    "# getting top five recommendations\n",
    "top_n = 5\n",
    "recommendations = similarity_df.sort_values(by='similarity', ascending=False).head(top_n)"
   ]
  },
  {
   "cell_type": "code",
   "execution_count": 10,
   "id": "c4df1526-18d9-4ca1-b8db-b8a8cbc9a646",
   "metadata": {},
   "outputs": [
    {
     "name": "stdout",
     "output_type": "stream",
     "text": [
      "                    similarity\n",
      "track_id                      \n",
      "TRAWSJK128F42767F2    0.557790\n",
      "TRAEROB12903CE3E7D    0.534168\n",
      "TRARBBK128F427ED68    0.506242\n",
      "TRAWYNV128F92F5E7E    0.490976\n",
      "TRADGWP128F42618E4    0.434340\n"
     ]
    }
   ],
   "source": [
    "print(recommendations)"
   ]
  },
  {
   "cell_type": "code",
   "execution_count": 11,
   "id": "5fa03765-ea82-4b57-93ef-5acee59404ea",
   "metadata": {},
   "outputs": [],
   "source": [
    "recommended_tracks = merged_df.merge(recommendations, left_on='track_id', right_index=True)"
   ]
  },
  {
   "cell_type": "code",
   "execution_count": 12,
   "id": "80482496-9c4c-415d-8bd4-cfedc030efc8",
   "metadata": {},
   "outputs": [],
   "source": [
    "recommended_tracks = recommended_tracks[['track_id', 'similarity', 'artist_name', 'song_title', 'album_name']].drop_duplicates()"
   ]
  },
  {
   "cell_type": "code",
   "execution_count": 13,
   "id": "dc1157e0-af7c-40b3-8f31-460d438b6bb0",
   "metadata": {},
   "outputs": [
    {
     "name": "stdout",
     "output_type": "stream",
     "text": [
      "Song ID: TRARBBK128F427ED68, Similarity: 0.5062, Artist: Koffi Olomide, Title: Elle Et Moi, Album: Tcha Tcho\n",
      "Song ID: TRAWYNV128F92F5E7E, Similarity: 0.4910, Artist: Guns N' Roses, Title: Catcher In The Rye, Album: Chinese Democracy\n",
      "Song ID: TRADGWP128F42618E4, Similarity: 0.4343, Artist: Madilu System, Title: Vincent, Album: La Bonne Humeur\n",
      "Song ID: TRAEROB12903CE3E7D, Similarity: 0.5342, Artist: Pepper, Title: Stormtrooper (Live), Album: Kona Gold\n",
      "Song ID: TRAWSJK128F42767F2, Similarity: 0.5578, Artist: Ini Kamoze, Title: Here Comes The Hotstepper, Album: 100 R&B Classics - The Anthems\n"
     ]
    }
   ],
   "source": [
    "for index, row in recommended_tracks.iterrows():\n",
    "    print(f\"Song ID: {row['track_id']}, Similarity: {row['similarity']:.4f}, Artist: {row['artist_name']}, Title: {row['song_title']}, Album: {row['album_name']}\")"
   ]
  }
 ],
 "metadata": {
  "kernelspec": {
   "display_name": "Python 3 (ipykernel)",
   "language": "python",
   "name": "python3"
  },
  "language_info": {
   "codemirror_mode": {
    "name": "ipython",
    "version": 3
   },
   "file_extension": ".py",
   "mimetype": "text/x-python",
   "name": "python",
   "nbconvert_exporter": "python",
   "pygments_lexer": "ipython3",
   "version": "3.11.7"
  },
  "widgets": {
   "application/vnd.jupyter.widget-state+json": {
    "state": {},
    "version_major": 2,
    "version_minor": 0
   }
  }
 },
 "nbformat": 4,
 "nbformat_minor": 5
}
